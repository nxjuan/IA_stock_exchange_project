{
 "cells": [
  {
   "cell_type": "code",
   "execution_count": 9,
   "metadata": {},
   "outputs": [
    {
     "data": {
      "text/plain": [
       "{'bestMatches': [{'1. symbol': 'GOLL4.SAO',\n",
       "   '2. name': 'Gol Linhas Aéreas Inteligentes S.A',\n",
       "   '3. type': 'Equity',\n",
       "   '4. region': 'Brazil/Sao Paolo',\n",
       "   '5. marketOpen': '10:00',\n",
       "   '6. marketClose': '17:30',\n",
       "   '7. timezone': 'UTC-03',\n",
       "   '8. currency': 'BRL',\n",
       "   '9. matchScore': '0.7692'}]}"
      ]
     },
     "execution_count": 9,
     "metadata": {},
     "output_type": "execute_result"
    }
   ],
   "source": [
    "import requests\n",
    "\n",
    "apikey = 'GX3EEUE69E3VK3F8'\n",
    "\n",
    "# replace the \"demo\" apikey below with your own key from https://www.alphavantage.co/support/#api-key\n",
    "url = f'https://www.alphavantage.co/query?function=SYMBOL_SEARCH&keywords=GOLL4&apikey={apikey}'\n",
    "r = requests.get(url)\n",
    "\n",
    "data = r.json()\n",
    "jason_intern = data.get('bestMatches')[0]\n",
    "symbol_name = jason_intern.get('1. symbol')\n",
    "\n",
    "r = requests.get(f'https://www.alphavantage.co/query?function=TIME_SERIES_DAILY_ADJUSTED&symbol={symbol_name}&apikey={apikey}')\n",
    "\n",
    "data\n"
   ]
  },
  {
   "cell_type": "code",
   "execution_count": 10,
   "metadata": {},
   "outputs": [
    {
     "data": {
      "text/plain": [
       "{'Information': 'Thank you for using Alpha Vantage! This is a premium endpoint. You may subscribe to any of the premium plans at https://www.alphavantage.co/premium/ to instantly unlock all premium endpoints'}"
      ]
     },
     "execution_count": 10,
     "metadata": {},
     "output_type": "execute_result"
    }
   ],
   "source": []
  }
 ],
 "metadata": {
  "kernelspec": {
   "display_name": "Python 3",
   "language": "python",
   "name": "python3"
  },
  "language_info": {
   "codemirror_mode": {
    "name": "ipython",
    "version": 3
   },
   "file_extension": ".py",
   "mimetype": "text/x-python",
   "name": "python",
   "nbconvert_exporter": "python",
   "pygments_lexer": "ipython3",
   "version": "3.12.1"
  }
 },
 "nbformat": 4,
 "nbformat_minor": 2
}
